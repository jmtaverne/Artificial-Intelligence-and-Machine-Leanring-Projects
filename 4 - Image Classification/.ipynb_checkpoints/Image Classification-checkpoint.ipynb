{
 "cells": [
  {
   "cell_type": "markdown",
   "metadata": {},
   "source": [
    "# Libraries"
   ]
  },
  {
   "cell_type": "code",
   "execution_count": 1,
   "metadata": {},
   "outputs": [
    {
     "name": "stderr",
     "output_type": "stream",
     "text": [
      "Using TensorFlow backend.\n",
      "/Users/jean-micheltaverne/anaconda3/lib/python3.6/site-packages/tensorflow/python/framework/dtypes.py:523: FutureWarning: Passing (type, 1) or '1type' as a synonym of type is deprecated; in a future version of numpy, it will be understood as (type, (1,)) / '(1,)type'.\n",
      "  _np_qint8 = np.dtype([(\"qint8\", np.int8, 1)])\n",
      "/Users/jean-micheltaverne/anaconda3/lib/python3.6/site-packages/tensorflow/python/framework/dtypes.py:524: FutureWarning: Passing (type, 1) or '1type' as a synonym of type is deprecated; in a future version of numpy, it will be understood as (type, (1,)) / '(1,)type'.\n",
      "  _np_quint8 = np.dtype([(\"quint8\", np.uint8, 1)])\n",
      "/Users/jean-micheltaverne/anaconda3/lib/python3.6/site-packages/tensorflow/python/framework/dtypes.py:525: FutureWarning: Passing (type, 1) or '1type' as a synonym of type is deprecated; in a future version of numpy, it will be understood as (type, (1,)) / '(1,)type'.\n",
      "  _np_qint16 = np.dtype([(\"qint16\", np.int16, 1)])\n",
      "/Users/jean-micheltaverne/anaconda3/lib/python3.6/site-packages/tensorflow/python/framework/dtypes.py:526: FutureWarning: Passing (type, 1) or '1type' as a synonym of type is deprecated; in a future version of numpy, it will be understood as (type, (1,)) / '(1,)type'.\n",
      "  _np_quint16 = np.dtype([(\"quint16\", np.uint16, 1)])\n",
      "/Users/jean-micheltaverne/anaconda3/lib/python3.6/site-packages/tensorflow/python/framework/dtypes.py:527: FutureWarning: Passing (type, 1) or '1type' as a synonym of type is deprecated; in a future version of numpy, it will be understood as (type, (1,)) / '(1,)type'.\n",
      "  _np_qint32 = np.dtype([(\"qint32\", np.int32, 1)])\n",
      "/Users/jean-micheltaverne/anaconda3/lib/python3.6/site-packages/tensorflow/python/framework/dtypes.py:532: FutureWarning: Passing (type, 1) or '1type' as a synonym of type is deprecated; in a future version of numpy, it will be understood as (type, (1,)) / '(1,)type'.\n",
      "  np_resource = np.dtype([(\"resource\", np.ubyte, 1)])\n"
     ]
    }
   ],
   "source": [
    "from keras.preprocessing.image import ImageDataGenerator \n",
    "from keras.models import Sequential \n",
    "from keras.layers import Conv2D, MaxPooling2D \n",
    "from keras.layers import Activation, Dropout, Flatten, Dense \n",
    "from keras import backend as K "
   ]
  },
  {
   "cell_type": "markdown",
   "metadata": {},
   "source": [
    "# Define basic parameters"
   ]
  },
  {
   "cell_type": "code",
   "execution_count": 34,
   "metadata": {},
   "outputs": [],
   "source": [
    "train_data_dir = 'v_data/train'\n",
    "validation_data_dir = 'v_data/test'\n",
    "nb_train_samples =400 \n",
    "nb_validation_samples = 100\n",
    "epochs = 20\n",
    "batch_size = 16\n",
    "img_width = 244\n",
    "img_height = 244"
   ]
  },
  {
   "cell_type": "markdown",
   "metadata": {},
   "source": [
    "# Prepare Data"
   ]
  },
  {
   "cell_type": "markdown",
   "metadata": {},
   "source": [
    "### Checking format of images"
   ]
  },
  {
   "cell_type": "code",
   "execution_count": 5,
   "metadata": {},
   "outputs": [],
   "source": [
    "if K.image_data_format() == 'channels_first': \n",
    "    input_shape = (3, img_width, img_height) \n",
    "else: \n",
    "    input_shape = (img_width, img_height, 3) "
   ]
  },
  {
   "cell_type": "markdown",
   "metadata": {},
   "source": [
    "### Using DataGenerator"
   ]
  },
  {
   "cell_type": "code",
   "execution_count": 8,
   "metadata": {},
   "outputs": [
    {
     "name": "stdout",
     "output_type": "stream",
     "text": [
      "Found 400 images belonging to 2 classes.\n",
      "Found 100 images belonging to 2 classes.\n"
     ]
    }
   ],
   "source": [
    "train_datagen = ImageDataGenerator(rescale=1. / 255, shear_range=0.2, zoom_range=0.2, horizontal_flip=True) \n",
    "  \n",
    "test_datagen = ImageDataGenerator(rescale=1. / 255) \n",
    "  \n",
    "train_generator = train_datagen.flow_from_directory( train_data_dir, target_size=(img_width, img_height), batch_size=batch_size, class_mode='binary') \n",
    "  \n",
    "validation_generator = test_datagen.flow_from_directory( validation_data_dir, target_size=(img_width, img_height), batch_size=batch_size, class_mode='binary') "
   ]
  },
  {
   "cell_type": "code",
   "execution_count": 32,
   "metadata": {
    "scrolled": true
   },
   "outputs": [
    {
     "data": {
      "text/plain": [
       "{'cars': 0, 'planes': 1}"
      ]
     },
     "execution_count": 32,
     "metadata": {},
     "output_type": "execute_result"
    }
   ],
   "source": [
    "label_map = (train_generator.class_indices)\n",
    "label_map"
   ]
  },
  {
   "cell_type": "markdown",
   "metadata": {},
   "source": [
    "# Building our Neural Network from Scratch"
   ]
  },
  {
   "cell_type": "code",
   "execution_count": 6,
   "metadata": {},
   "outputs": [],
   "source": [
    "model = Sequential() \n",
    "model.add(Conv2D(32, (2, 2), input_shape=input_shape)) \n",
    "model.add(Activation('relu')) \n",
    "model.add(MaxPooling2D(pool_size=(2, 2))) \n",
    "  \n",
    "model.add(Conv2D(32, (2, 2))) \n",
    "model.add(Activation('relu')) \n",
    "model.add(MaxPooling2D(pool_size=(2, 2))) \n",
    "  \n",
    "model.add(Conv2D(64, (2, 2))) \n",
    "model.add(Activation('relu')) \n",
    "model.add(MaxPooling2D(pool_size=(2, 2))) \n",
    "  \n",
    "model.add(Flatten()) \n",
    "model.add(Dense(64)) \n",
    "model.add(Activation('relu')) \n",
    "model.add(Dropout(0.5)) \n",
    "model.add(Dense(1)) \n",
    "model.add(Activation('sigmoid')) "
   ]
  },
  {
   "cell_type": "code",
   "execution_count": 7,
   "metadata": {},
   "outputs": [],
   "source": [
    "model.compile(loss='binary_crossentropy', optimizer='rmsprop', metrics=['accuracy']) "
   ]
  },
  {
   "cell_type": "code",
   "execution_count": 35,
   "metadata": {
    "scrolled": true
   },
   "outputs": [
    {
     "name": "stdout",
     "output_type": "stream",
     "text": [
      "Epoch 1/20\n",
      "25/25 [==============================] - 24s 965ms/step - loss: 0.2941 - acc: 0.8975 - val_loss: 0.2668 - val_acc: 0.8646\n",
      "Epoch 2/20\n",
      "25/25 [==============================] - 23s 906ms/step - loss: 0.2544 - acc: 0.8875 - val_loss: 0.2761 - val_acc: 0.8929\n",
      "Epoch 3/20\n",
      "25/25 [==============================] - 22s 883ms/step - loss: 0.2428 - acc: 0.9150 - val_loss: 0.1706 - val_acc: 0.9524\n",
      "Epoch 4/20\n",
      "25/25 [==============================] - 21s 850ms/step - loss: 0.2535 - acc: 0.9050 - val_loss: 0.2549 - val_acc: 0.8810\n",
      "Epoch 5/20\n",
      "25/25 [==============================] - 21s 847ms/step - loss: 0.1917 - acc: 0.9200 - val_loss: 0.3139 - val_acc: 0.8929\n",
      "Epoch 6/20\n",
      "25/25 [==============================] - 21s 855ms/step - loss: 0.1865 - acc: 0.9325 - val_loss: 0.6145 - val_acc: 0.8095\n",
      "Epoch 7/20\n",
      "25/25 [==============================] - 21s 856ms/step - loss: 0.2055 - acc: 0.9175 - val_loss: 0.2458 - val_acc: 0.9048\n",
      "Epoch 8/20\n",
      "25/25 [==============================] - 21s 857ms/step - loss: 0.1774 - acc: 0.9275 - val_loss: 0.2256 - val_acc: 0.9271\n",
      "Epoch 9/20\n",
      "25/25 [==============================] - 21s 848ms/step - loss: 0.1970 - acc: 0.9250 - val_loss: 0.1773 - val_acc: 0.9048\n",
      "Epoch 10/20\n",
      "25/25 [==============================] - 21s 841ms/step - loss: 0.1964 - acc: 0.9325 - val_loss: 0.6327 - val_acc: 0.7857\n",
      "Epoch 11/20\n",
      "25/25 [==============================] - 21s 848ms/step - loss: 0.1502 - acc: 0.9425 - val_loss: 0.0975 - val_acc: 0.9881\n",
      "Epoch 12/20\n",
      "25/25 [==============================] - 21s 845ms/step - loss: 0.1509 - acc: 0.9450 - val_loss: 0.4653 - val_acc: 0.8452\n",
      "Epoch 13/20\n",
      "25/25 [==============================] - 21s 857ms/step - loss: 0.1461 - acc: 0.9575 - val_loss: 0.3613 - val_acc: 0.8333\n",
      "Epoch 14/20\n",
      "25/25 [==============================] - 21s 845ms/step - loss: 0.1610 - acc: 0.9500 - val_loss: 0.2386 - val_acc: 0.9286\n",
      "Epoch 15/20\n",
      "25/25 [==============================] - 21s 851ms/step - loss: 0.1294 - acc: 0.9500 - val_loss: 0.3914 - val_acc: 0.8542\n",
      "Epoch 16/20\n",
      "25/25 [==============================] - 21s 844ms/step - loss: 0.1002 - acc: 0.9650 - val_loss: 0.3486 - val_acc: 0.8929\n",
      "Epoch 17/20\n",
      "25/25 [==============================] - 21s 839ms/step - loss: 0.1138 - acc: 0.9600 - val_loss: 0.7197 - val_acc: 0.8452\n",
      "Epoch 18/20\n",
      "25/25 [==============================] - 21s 850ms/step - loss: 0.1481 - acc: 0.9450 - val_loss: 0.3043 - val_acc: 0.8929\n",
      "Epoch 19/20\n",
      "25/25 [==============================] - 22s 861ms/step - loss: 0.0623 - acc: 0.9825 - val_loss: 0.2995 - val_acc: 0.9167\n",
      "Epoch 20/20\n",
      "25/25 [==============================] - 24s 944ms/step - loss: 0.1759 - acc: 0.9500 - val_loss: 0.2624 - val_acc: 0.8929\n"
     ]
    },
    {
     "data": {
      "text/plain": [
       "<keras.callbacks.History at 0xb2784b400>"
      ]
     },
     "execution_count": 35,
     "metadata": {},
     "output_type": "execute_result"
    }
   ],
   "source": [
    "model.fit_generator(train_generator, steps_per_epoch=nb_train_samples // batch_size, epochs=epochs, validation_data=validation_generator, validation_steps=nb_validation_samples // batch_size)"
   ]
  },
  {
   "cell_type": "code",
   "execution_count": 36,
   "metadata": {},
   "outputs": [
    {
     "name": "stdout",
     "output_type": "stream",
     "text": [
      "Class:  1  --> planes\n"
     ]
    },
    {
     "data": {
      "image/jpeg": "[encoded data removed]",
      "text/plain": [
       "<IPython.core.display.Image object>"
      ]
     },
     "execution_count": 36,
     "metadata": {},
     "output_type": "execute_result"
    }
   ],
   "source": [
    "from keras.preprocessing import image\n",
    "import numpy as np\n",
    "from IPython.display import Image\n",
    "\n",
    "# predicting images\n",
    "filename = 'test1.jpg'\n",
    "\n",
    "img = image.load_img(filename, target_size=(img_width, img_height))\n",
    "x = image.img_to_array(img)\n",
    "x = np.expand_dims(x, axis=0)\n",
    "\n",
    "images = np.vstack([x])\n",
    "classes = model.predict_classes(images, batch_size=batch_size)\n",
    "current_class = classes[0][0]\n",
    "\n",
    "for name, classes in label_map.items():    # for name, age in dictionary.iteritems():  (for Python 2.x)\n",
    "    if classes == current_class:\n",
    "        current_name = name\n",
    "\n",
    "print('Class: ',current_class,' -->',current_name)\n",
    "\n",
    "Image(filename=filename)\n",
    "\n",
    "\n"
   ]
  },
  {
   "cell_type": "code",
   "execution_count": null,
   "metadata": {},
   "outputs": [],
   "source": []
  }
 ],
 "metadata": {
  "kernelspec": {
   "display_name": "Python 3",
   "language": "python",
   "name": "python3"
  },
  "language_info": {
   "codemirror_mode": {
    "name": "ipython",
    "version": 3
   },
   "file_extension": ".py",
   "mimetype": "text/x-python",
   "name": "python",
   "nbconvert_exporter": "python",
   "pygments_lexer": "ipython3",
   "version": "3.6.8"
  }
 },
 "nbformat": 4,
 "nbformat_minor": 2
}
